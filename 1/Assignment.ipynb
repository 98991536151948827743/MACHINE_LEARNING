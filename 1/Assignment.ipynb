{
 "cells": [
  {
   "cell_type": "code",
   "execution_count": null,
   "id": "8c51ec91",
   "metadata": {},
   "outputs": [],
   "source": [
    "#Note :- Sir i have replaced {language, logic, and surroundings} with {Physics, Chemistry, Mathematics} \n",
    "#because of better understanding"
   ]
  },
  {
   "cell_type": "code",
   "execution_count": null,
   "id": "4eed8bf0",
   "metadata": {},
   "outputs": [],
   "source": [
    "# Name:- Rahul Madheshiya\n",
    "# class: Robotics and Automation\n",
    "# Roll No.: 124111009\n",
    "# mob No. 9877511146"
   ]
  },
  {
   "cell_type": "code",
   "execution_count": 45,
   "id": "36de0190",
   "metadata": {},
   "outputs": [
    {
     "name": "stdout",
     "output_type": "stream",
     "text": [
      "Marks of 20 students:\n",
      " {'Physics': [79, 47, 72, 66, 60, 69, 13, 26, 72, 10, 45, 25, 79, 85, 69, 66, 68, 22, 68, 99], 'Chemistry': [96, 91, 87, 51, 89, 22, 51, 99, 95, 55, 61, 7, 65, 80, 97, 49, 93, 78, 66, 14], 'Mathematics': [10, 82, 48, 60, 48, 77, 11, 65, 27, 17, 5, 41, 98, 46, 36, 89, 20, 68, 76, 51]}\n"
     ]
    }
   ],
   "source": [
    "import random\n",
    "s = [\"Physics\", \"Chemistry\", \"Mathematics\"]\n",
    "d = {}\n",
    "for sb in s:\n",
    "    mk = []\n",
    "    for i in range(20):\n",
    "        mk.append(random.randint(0, 100))\n",
    "    d[sb] = mk\n",
    "print(f\"Marks of 20 students:\\n {d}\")\n"
   ]
  },
  {
   "cell_type": "code",
   "execution_count": null,
   "id": "d4a88811",
   "metadata": {},
   "outputs": [
    {
     "name": "stdout",
     "output_type": "stream",
     "text": [
      "    Physics  Chemistry  Mathematics\n",
      "0        79         96           10\n",
      "1        47         91           82\n",
      "2        72         87           48\n",
      "3        66         51           60\n",
      "4        60         89           48\n",
      "5        69         22           77\n",
      "6        13         51           11\n",
      "7        26         99           65\n",
      "8        72         95           27\n",
      "9        10         55           17\n",
      "10       45         61            5\n",
      "11       25          7           41\n",
      "12       79         65           98\n",
      "13       85         80           46\n",
      "14       69         97           36\n",
      "15       66         49           89\n",
      "16       68         93           20\n",
      "17       22         78           68\n",
      "18       68         66           76\n",
      "19       99         14           51\n"
     ]
    }
   ],
   "source": [
    "import pandas as pd\n",
    "df= pd.DataFrame(d)\n",
    "print(df)"
   ]
  },
  {
   "cell_type": "code",
   "execution_count": 60,
   "id": "320cb28c",
   "metadata": {},
   "outputs": [
    {
     "name": "stdout",
     "output_type": "stream",
     "text": [
      "mean is :\n",
      "Physics        57.00\n",
      "Chemistry      67.30\n",
      "Mathematics    48.75\n",
      "dtype: float64\n",
      "median is :\n",
      "Physics        67.0\n",
      "Chemistry      72.0\n",
      "Mathematics    48.0\n",
      "dtype: float64\n",
      "mode is :\n",
      "Physics        66.0\n",
      "Chemistry      51.0\n",
      "Mathematics    48.0\n",
      "Name: 0, dtype: float64\n"
     ]
    }
   ],
   "source": [
    "# for mean median and mode\n",
    "print(f\"mean is :\\n{df.mean()}\")\n",
    "print(f\"median is :\\n{df.median()}\")\n",
    "print(f\"mode is :\\n{df.mode().iloc[0]}\")#because it is print some NaN value"
   ]
  },
  {
   "cell_type": "code",
   "execution_count": 65,
   "id": "8afcbbad",
   "metadata": {},
   "outputs": [
    {
     "name": "stdout",
     "output_type": "stream",
     "text": [
      "range is :\n",
      " Physics        89\n",
      "Chemistry      92\n",
      "Mathematics    93\n",
      "dtype: int64\n",
      "Variance is :\n",
      " Physics        645.578947\n",
      "Chemistry      812.010526\n",
      "Mathematics    780.934211\n",
      "dtype: float64\n",
      "Standard Deviation is :\n",
      " Physics        25.408246\n",
      "Chemistry      28.495798\n",
      "Mathematics    27.945200\n",
      "dtype: float64\n"
     ]
    }
   ],
   "source": [
    "print(\"range is :\\n\",df.max() - df.min())\n",
    "print(\"Variance is :\\n\", df.var())\n",
    "print(\"Standard Deviation is :\\n\", df.std())"
   ]
  },
  {
   "cell_type": "code",
   "execution_count": null,
   "id": "2aebb831",
   "metadata": {},
   "outputs": [],
   "source": [
    "# When you compare wrt mean that means\n",
    "# students got fewer marks in Chemistry than in Physics. \n",
    "\n",
    "# Chemistry divergent data  means some students scoring  high whereas some are scoring low some . Physics marks are better and more similar for everyone."
   ]
  },
  {
   "cell_type": "code",
   "execution_count": null,
   "id": "7e148c95",
   "metadata": {},
   "outputs": [],
   "source": [
    "# Students did much better in Mathematics than Chemistry on average meaning there are not much difference in marks. \n",
    "# The marks in both subjects are spread out in a similar way, but in chemistry it's hard to score."
   ]
  }
 ],
 "metadata": {
  "kernelspec": {
   "display_name": "base",
   "language": "python",
   "name": "python3"
  },
  "language_info": {
   "codemirror_mode": {
    "name": "ipython",
    "version": 3
   },
   "file_extension": ".py",
   "mimetype": "text/x-python",
   "name": "python",
   "nbconvert_exporter": "python",
   "pygments_lexer": "ipython3",
   "version": "3.13.5"
  }
 },
 "nbformat": 4,
 "nbformat_minor": 5
}
