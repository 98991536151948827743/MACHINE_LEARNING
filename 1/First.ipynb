{
 "cells": [
  {
   "cell_type": "code",
   "execution_count": 4,
   "id": "6f76cc57",
   "metadata": {},
   "outputs": [
    {
     "name": "stdout",
     "output_type": "stream",
     "text": [
      "State\n",
      "Punjab            0.129311\n",
      "Rajasthan         0.129336\n",
      "Delhi             0.129477\n",
      "Jharkhand         0.129754\n",
      "Kerala            0.129849\n",
      "Chhattisgarh      0.130243\n",
      "Uttarakhand       0.130245\n",
      "Odisha            0.130322\n",
      "Bihar             0.130513\n",
      "West Bengal       0.130645\n",
      "Haryana           0.130692\n",
      "Maharashtra       0.130703\n",
      "Madhya Pradesh    0.130717\n",
      "Assam             0.130819\n",
      "Telangana         0.130957\n",
      "Gujarat           0.130995\n",
      "Tamil Nadu        0.131367\n",
      "Uttar Pradesh     0.131417\n",
      "Andhra Pradesh    0.132037\n",
      "Karnataka         0.132538\n",
      "Name: Price_per_SqFt, dtype: float64\n"
     ]
    }
   ],
   "source": [
    "# Calculate average property prices across states.\n",
    "import pandas as pd\n",
    "df=pd.read_excel('/Users/ml/Downloads/Machine Learning/india_housing_prices.xlsx')\n",
    "a = df.groupby('State')['Price_per_SqFt'].mean()\n",
    "a=a.sort_values()\n",
    "print(a)"
   ]
  },
  {
   "cell_type": "code",
   "execution_count": 8,
   "id": "b2399ce4",
   "metadata": {},
   "outputs": [
    {
     "name": "stdout",
     "output_type": "stream",
     "text": [
      "Cheapest state is:Punjab having value as: 0.1293112815596037\n"
     ]
    }
   ],
   "source": [
    "# Calculate average property prices across states.\n",
    "import pandas as pd\n",
    "df=pd.read_excel('/Users/ml/Downloads/Machine Learning/india_housing_prices.xlsx')\n",
    "a = df.groupby('State')['Price_per_SqFt'].mean()\n",
    "a=a.sort_values()\n",
    "\n",
    "print(f\"Cheapest state is:{a.idxmin()} having value as:\", a.min())"
   ]
  },
  {
   "cell_type": "code",
   "execution_count": 13,
   "id": "0752655e",
   "metadata": {},
   "outputs": [
    {
     "name": "stdout",
     "output_type": "stream",
     "text": [
      "vila countis:83744, whereas Apartment Count is: 82956\n"
     ]
    }
   ],
   "source": [
    "import pandas as pd\n",
    "df=pd.read_excel('/Users/ml/Downloads/Machine Learning/india_housing_prices.xlsx')\n",
    "#a=(df['Property_type']== 'Villa').value_counts()\n",
    "a=(df['Property_Type']== 'Villa').sum()\n",
    "b=(df['Property_Type']== 'Apartment').sum()\n",
    "print(f\"vila countis:{a}, whereas Apartment Count is: {b}\")\n",
    " "
   ]
  },
  {
   "cell_type": "code",
   "execution_count": 17,
   "id": "78274bcd",
   "metadata": {},
   "outputs": [
    {
     "name": "stdout",
     "output_type": "stream",
     "text": [
      "Average size is :2749.813216 and price is : 0.13059679999999999\n"
     ]
    }
   ],
   "source": [
    "import pandas as pd\n",
    "df=pd.read_excel('/Users/ml/Downloads/Machine Learning/india_housing_prices.xlsx')\n",
    "a=(df['Price_per_SqFt']).mean()\n",
    "b=(df['Size_in_SqFt']).mean()\n",
    "print(f\"Average size is :{b} and price is : {a}\")"
   ]
  },
  {
   "cell_type": "code",
   "execution_count": null,
   "id": "4941ce91",
   "metadata": {},
   "outputs": [
    {
     "name": "stdout",
     "output_type": "stream",
     "text": [
      "most common BHK is  :1\n"
     ]
    }
   ],
   "source": [
    "import pandas as pd\n",
    "df=pd.read_excel('/Users/ml/Downloads/Machine Learning/india_housing_prices.xlsx')\n",
    "a = df['BHK'].value_counts()\n",
    "\n",
    "b = a.max()\n",
    "print(f\"most common BHK is  :{b}\")"
   ]
  },
  {
   "cell_type": "code",
   "execution_count": 26,
   "id": "4d8f48ea",
   "metadata": {},
   "outputs": [
    {
     "name": "stdout",
     "output_type": "stream",
     "text": [
      "most listed city is  Coimbatore and it appears 6461 times \n"
     ]
    }
   ],
   "source": [
    "import pandas as pd\n",
    "df=pd.read_excel('/Users/ml/Downloads/Machine Learning/india_housing_prices.xlsx')\n",
    "a = df['City'].value_counts()\n",
    "\n",
    "b=a.idxmax()\n",
    "\n",
    "c = a.max()\n",
    "print(f\"most listed city is  {b} and it appears {c} times \")\n"
   ]
  },
  {
   "cell_type": "code",
   "execution_count": 37,
   "id": "45b1595c",
   "metadata": {},
   "outputs": [
    {
     "name": "stdout",
     "output_type": "stream",
     "text": [
      "most listed city is  :                                      Avg_Price\n",
      "Furnished_Status Availability_Status           \n",
      "Furnished        Ready_to_Move         0.130192\n",
      "                 Under_Construction    0.130506\n",
      "Semi-furnished   Ready_to_Move         0.131121\n",
      "                 Under_Construction    0.130774\n",
      "Unfurnished      Ready_to_Move         0.131011\n",
      "                 Under_Construction    0.129978\n"
     ]
    }
   ],
   "source": [
    "import pandas as pd\n",
    "df=pd.read_excel('/Users/ml/Downloads/Machine Learning/india_housing_prices.xlsx')\n",
    "a = df.groupby(['Furnished_Status', 'Availability_Status']).agg(\n",
    "\n",
    "    Avg_Price=('Price_per_SqFt', 'mean')\n",
    ")\n",
    "\n",
    "b = a.max()\n",
    "print(f\"most listed city is  :{a}\")"
   ]
  },
  {
   "cell_type": "code",
   "execution_count": 38,
   "id": "c768d887",
   "metadata": {},
   "outputs": [],
   "source": [
    "import pandas as pd\n",
    "df=pd.read_excel('/Users/ml/Downloads/Machine Learning/india_housing_prices.xlsx')\n",
    "a = df.groupby(['Furnished_Status', 'Availability_Status']).agg(\n",
    "\n",
    "    Avg_Price=('Price_per_SqFt', 'mean')\n",
    ")\n"
   ]
  },
  {
   "cell_type": "code",
   "execution_count": null,
   "id": "9cda244d",
   "metadata": {},
   "outputs": [],
   "source": []
  }
 ],
 "metadata": {
  "kernelspec": {
   "display_name": "base",
   "language": "python",
   "name": "python3"
  },
  "language_info": {
   "codemirror_mode": {
    "name": "ipython",
    "version": 3
   },
   "file_extension": ".py",
   "mimetype": "text/x-python",
   "name": "python",
   "nbconvert_exporter": "python",
   "pygments_lexer": "ipython3",
   "version": "3.13.5"
  }
 },
 "nbformat": 4,
 "nbformat_minor": 5
}
