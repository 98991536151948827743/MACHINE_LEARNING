{
 "cells": [
  {
   "cell_type": "code",
   "execution_count": null,
   "id": "36de0190",
   "metadata": {},
   "outputs": [
    {
     "name": "stdout",
     "output_type": "stream",
     "text": [
      "Marks of 20 students:\n",
      " {'Physics': [14, 18, 71, 0, 58, 83, 17, 76, 93, 89, 99, 86, 94, 28, 24, 78, 14, 25, 15, 84], 'Chemistry': [15, 93, 33, 85, 2, 44, 36, 93, 28, 38, 92, 16, 2, 96, 2, 13, 93, 71, 67, 77], 'Mathematics': [33, 68, 96, 31, 83, 88, 43, 50, 34, 64, 55, 63, 66, 65, 65, 75, 2, 6, 28, 29]}\n"
     ]
    }
   ],
   "source": [
    "import random\n",
    "subjects = [\"Physics\", \"Chemistry\", \"Mathematics\"]\n",
    "data = {}\n",
    "for subject in subjects:\n",
    "    marks = []\n",
    "    for i in range(20):\n",
    "        marks.append(random.randint(0, 100))\n",
    "    data[subject] = marks\n",
    "data= data.Dataframe()\n",
    "print(f\"Marks of 20 students:\\n {data}\")\n",
    "# for subject, marks in data.items():\n",
    "#     print(subject, \":\", marks)\n"
   ]
  },
  {
   "cell_type": "code",
   "execution_count": null,
   "id": "d4a88811",
   "metadata": {},
   "outputs": [],
   "source": []
  }
 ],
 "metadata": {
  "kernelspec": {
   "display_name": "base",
   "language": "python",
   "name": "python3"
  },
  "language_info": {
   "codemirror_mode": {
    "name": "ipython",
    "version": 3
   },
   "file_extension": ".py",
   "mimetype": "text/x-python",
   "name": "python",
   "nbconvert_exporter": "python",
   "pygments_lexer": "ipython3",
   "version": "3.13.5"
  }
 },
 "nbformat": 4,
 "nbformat_minor": 5
}
